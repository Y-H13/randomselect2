{
 "cells": [
  {
   "cell_type": "code",
   "execution_count": null,
   "metadata": {},
   "outputs": [
    {
     "name": "stdout",
     "output_type": "stream",
     "text": [
      "Please press the button below.\n"
     ]
    }
   ],
   "source": [
    "import random\n",
    "print(\"Please press the button below.\")\n",
    "num=random.randrange(11)\n",
    "result=num%11\n",
    "if result==0:\n",
    "    print(\"Nobody's fault\")\n",
    "elif result==1:\n",
    "    print(\"BAN\")\n",
    "elif result==2:\n",
    "    print(\"流れ弾\")\n",
    "elif result==3:\n",
    "    print(\"五月雨よ\")\n",
    "elif result==4:\n",
    "    print(\"桜月\")\n",
    "elif result==5:\n",
    "    print(\"Start over!\")\n",
    "elif result==6:\n",
    "    print(\"承認欲求\")\n",
    "elif result==7:\n",
    "    print(\"何歳の頃に戻りたいのか？\")\n",
    "elif result==8:\n",
    "    print(\"自業自得\")\n",
    "elif result==9:\n",
    "    print(\"I want tomorrow to come\")\n",
    "else:\n",
    "    print(\"UDAGAWA GENERATION\")"
   ]
  }
 ],
 "metadata": {
  "kernelspec": {
   "display_name": "Python 3 (ipykernel)",
   "language": "python",
   "name": "python3"
  },
  "language_info": {
   "codemirror_mode": {
    "name": "ipython",
    "version": 3
   },
   "file_extension": ".py",
   "mimetype": "text/x-python",
   "name": "python",
   "nbconvert_exporter": "python",
   "pygments_lexer": "ipython3",
   "version": "3.12.1"
  }
 },
 "nbformat": 4,
 "nbformat_minor": 2
}
