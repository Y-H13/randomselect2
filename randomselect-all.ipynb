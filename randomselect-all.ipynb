{
 "cells": [
  {
   "cell_type": "code",
   "execution_count": null,
   "metadata": {},
   "outputs": [],
   "source": [
    "import random\n",
    "x=int(input(\"プレイリストの曲数を入力してください： \"))\n",
    "print(\"下のボタンを押してください。\")\n",
    "for i in range(x):\n",
    "    rest=x-i\n",
    "    print(\"残り\"+str(rest)+\"曲\") /*残りの曲数を表示*/\n",
    "    if rest==0:\n",
    "        print(\"プレイリストが完成しました！\")\n",
    "        break\n",
    "    result=random.randrange(0)\n",
    "    if result==0:\n",
    "        num=random.randrange(6)\n",
    "        if num==0:\n",
    "            print(\"Nobody's fault\\n\")\n",
    "        elif num==1:\n",
    "            print(\"なぜ恋をしてこなかったんだろう？\\n\")\n",
    "        elif num==2:\n",
    "            print(\"Buddies\\n\")\n",
    "        elif num==3:\n",
    "            print(\"ブルームーンキス\\n\")\n",
    "        elif num==4:\n",
    "            print(\"半信半疑\\n\")\n",
    "        elif num==5:\n",
    "            print(\"Plastic regret\\n\")\n",
    "        else:\n",
    "            print(\"最終の地下鉄に乗って\\n\")\n",
    "\n",
    "    \n",
    "    "
   ]
  }
 ],
 "metadata": {
  "language_info": {
   "name": "python"
  }
 },
 "nbformat": 4,
 "nbformat_minor": 2
}
