{
 "cells": [
  {
   "cell_type": "code",
   "execution_count": null,
   "metadata": {},
   "outputs": [
    {
     "name": "stdout",
     "output_type": "stream",
     "text": [
      "下のボタンを押してください。\n",
      "Buddies\n",
      "\n",
      "なぜ恋をしてこなかったんだろう？\n",
      "\n",
      "Plastic regret\n",
      "\n",
      "半信半疑\n",
      "\n",
      "Nobody's fault\n",
      "\n",
      "なぜ恋をしてこなかったんだろう？\n",
      "\n",
      "Nobody's fault\n",
      "\n",
      "Nobody's fault\n",
      "\n"
     ]
    }
   ],
   "source": [
    "import random\n",
    "x=int(input(\"プレイリストの曲数を入力してください： \"))\n",
    "print(\"下のボタンを押してください。\")\n",
    "for i in range(x):\n",
    "    rest=x-i\n",
    "    if rest==0:\n",
    "        print(\"プレイリストが完成しました！\")\n",
    "        break\n",
    "    result=random.randrange(11)\n",
    "    if result==0:\n",
    "        num=random.randrange(6)\n",
    "        if num==0:\n",
    "            print(\"Nobody's fault\\n\")\n",
    "        elif num==1:\n",
    "            print(\"なぜ恋をしてこなかったんだろう？\\n\")\n",
    "        elif num==2:\n",
    "            print(\"Buddies\\n\")\n",
    "        elif num==3:\n",
    "            print(\"ブルームーンキス\\n\")\n",
    "        elif num==4:\n",
    "            print(\"半信半疑\\n\")\n",
    "        elif num==5:\n",
    "            print(\"Plastic regret\\n\")\n",
    "        else:\n",
    "            print(\"最終の地下鉄に乗って\\n\")\n",
    "    elif result==1:\n",
    "        num=random.randrange(6)\n",
    "        if num==0:\n",
    "            print(\"BAN\\n\")\n",
    "        elif num==1:\n",
    "            print(\"偶然の答え\\n\")\n",
    "        elif num==2:\n",
    "            print(\"思ったよりも寂しくない\\n\")\n",
    "        elif num==3:\n",
    "            print(\"それが愛なのね\\n\")\n",
    "        elif num==4:\n",
    "            print(\"君と僕と洗濯物\\n\")\n",
    "        elif num==5:\n",
    "            print(\"Microscope\\n\")\n",
    "        else:\n",
    "            print(\"櫻坂の歌\\n\")\n",
    "\n",
    "\n",
    "    \n",
    "    "
   ]
  }
 ],
 "metadata": {
  "kernelspec": {
   "display_name": "Python 3 (ipykernel)",
   "language": "python",
   "name": "python3"
  },
  "language_info": {
   "codemirror_mode": {
    "name": "ipython",
    "version": 3
   },
   "file_extension": ".py",
   "mimetype": "text/x-python",
   "name": "python",
   "nbconvert_exporter": "python",
   "pygments_lexer": "ipython3",
   "version": "3.12.1"
  }
 },
 "nbformat": 4,
 "nbformat_minor": 2
}
