{
 "cells": [
  {
   "cell_type": "code",
   "execution_count": null,
   "metadata": {},
   "outputs": [
    {
     "name": "stdout",
     "output_type": "stream",
     "text": [
      "下のボタンを押してください。\n",
      "Buddies\n",
      "\n",
      "Nobody's fault\n",
      "\n",
      "半信半疑\n",
      "\n",
      "なぜ恋をしてこなかったんだろう？\n",
      "\n",
      "Plastic regret\n",
      "\n",
      "Buddies\n",
      "\n",
      "Buddies\n",
      "\n",
      "なぜ恋をしてこなかったんだろう？\n",
      "\n",
      "プレイリストが完成しました！\n"
     ]
    }
   ],
   "source": [
    "import random\n",
    "x=int(input(\"プレイリストの曲数を入力してください： \"))\n",
    "print(\"下のボタンを押してください。\")\n",
    "\n",
    "#曲のリスト\n",
    "#1stシングル\n",
    "single_1=[\n",
    "    \"Nobody's fault\",\n",
    "    \"なぜ恋をしてこなかったんだろう？\",\n",
    "    \"Buddies\",\n",
    "    \"ブルームーンキス\",\n",
    "    \"半信半疑\",\n",
    "    \"Plastic regret\",\n",
    "    \"最終の地下鉄に乗って\"\n",
    "]\n",
    "#2ndシングル\n",
    "single_2=[\n",
    "    \"BAN\",\n",
    "    \"偶然の答え\",\n",
    "    \"思ったよりも寂しくない\",\n",
    "    \"それが愛なのね\",\n",
    "    \"君と僕と洗濯物\",\n",
    "    \"Microscope\",\n",
    "    \"櫻坂の歌\"\n",
    "]\n",
    "#3rdシングル\n",
    "\n",
    "#4thシングル\n",
    "\n",
    "#1stアルバム\n",
    "\n",
    "#5thシングル\n",
    "\n",
    "#6thシングル\n",
    "\n",
    "#7thシングル\n",
    "\n",
    "#8thシングル\n",
    "\n",
    "#9thシングル\n",
    "\n",
    "#10thシングル\n",
    "\n",
    "#11thシングル\n",
    "\n",
    "#2ndアルバム\n",
    "\n",
    "print(\"プレイリストが完成しました！\")\n",
    "\n",
    "\n",
    "    \n",
    "    "
   ]
  }
 ],
 "metadata": {
  "kernelspec": {
   "display_name": "Python 3 (ipykernel)",
   "language": "python",
   "name": "python3"
  },
  "language_info": {
   "codemirror_mode": {
    "name": "ipython",
    "version": 3
   },
   "file_extension": ".py",
   "mimetype": "text/x-python",
   "name": "python",
   "nbconvert_exporter": "python",
   "pygments_lexer": "ipython3",
   "version": "3.12.1"
  }
 },
 "nbformat": 4,
 "nbformat_minor": 2
}
